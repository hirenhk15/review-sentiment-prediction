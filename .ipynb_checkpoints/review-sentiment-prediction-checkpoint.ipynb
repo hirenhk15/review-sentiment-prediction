{
 "cells": [
  {
   "cell_type": "markdown",
   "metadata": {},
   "source": [
    "# Review Sentiment Prediction\n",
    "\n",
    "This is a binary classification problem where you need to predict whether the review sentiment is positive or negative\n",
    "\n",
    "### Data Dictionary\n",
    "\n",
    " - **id**: Unique identifier for each tuple\n",
    " - **category**: The reviews have been categorized into two categories representing positive and negative reviews. 0 represents positive reviews and 1 represents negative reviews.\n",
    " - **text**: Tokenized text content of the review\n",
    " \n",
    "### Evaluation Metric\n",
    "\n",
    " - Submissions are evaluated using [Precision_Score(Macro)](https://scikit-learn.org/stable/modules/generated/sklearn.metrics.precision_score.html#:~:text=The%20precision%20is%20the%20ratio,the%20worst%20value%20is%200.)\n",
    " \n",
    " - e.g. ```precision_score(y_true, y_pred, average='macro')```"
   ]
  },
  {
   "cell_type": "markdown",
   "metadata": {},
   "source": [
    "## 1. Import the packages"
   ]
  },
  {
   "cell_type": "code",
   "execution_count": 66,
   "metadata": {},
   "outputs": [],
   "source": [
    "import numpy as np\n",
    "import pandas as pd\n",
    "import seaborn as sns\n",
    "import category_encoders as ce\n",
    "import matplotlib.pyplot as plt\n",
    "from sklearn.model_selection import train_test_split\n",
    "\n",
    "from sklearn.linear_model import LogisticRegression\n",
    "from sklearn.linear_model import SGDClassifier\n",
    "from sklearn.ensemble import RandomForestClassifier\n",
    "from xgboost.sklearn import XGBClassifier\n",
    "\n",
    "from sklearn.metrics import precision_score\n",
    "from sklearn.metrics import confusion_matrix\n",
    "from sklearn.utils import resample, shuffle\n",
    "\n",
    "from sklearn.feature_extraction.text import (\n",
    "    CountVectorizer, TfidfVectorizer, \n",
    "    HashingVectorizer, TfidfTransformer\n",
    ")\n",
    "from sklearn.linear_model import LogisticRegression\n",
    "\n",
    "import warnings\n",
    "warnings.filterwarnings(\"ignore\")"
   ]
  },
  {
   "cell_type": "markdown",
   "metadata": {},
   "source": [
    "## 2. Read the data\n",
    "\n",
    "Read training data for building machine learning models"
   ]
  },
  {
   "cell_type": "code",
   "execution_count": 24,
   "metadata": {},
   "outputs": [
    {
     "data": {
      "text/html": [
       "<div>\n",
       "<style scoped>\n",
       "    .dataframe tbody tr th:only-of-type {\n",
       "        vertical-align: middle;\n",
       "    }\n",
       "\n",
       "    .dataframe tbody tr th {\n",
       "        vertical-align: top;\n",
       "    }\n",
       "\n",
       "    .dataframe thead th {\n",
       "        text-align: right;\n",
       "    }\n",
       "</style>\n",
       "<table border=\"1\" class=\"dataframe\">\n",
       "  <thead>\n",
       "    <tr style=\"text-align: right;\">\n",
       "      <th></th>\n",
       "      <th>id</th>\n",
       "      <th>text</th>\n",
       "      <th>category</th>\n",
       "    </tr>\n",
       "  </thead>\n",
       "  <tbody>\n",
       "    <tr>\n",
       "      <th>0</th>\n",
       "      <td>3973</td>\n",
       "      <td>1047 6700 4178 2912 183 6700</td>\n",
       "      <td>0</td>\n",
       "    </tr>\n",
       "    <tr>\n",
       "      <th>1</th>\n",
       "      <td>4462</td>\n",
       "      <td>4035 4563 1994 154 5373 4956 6035 4393 4017 40...</td>\n",
       "      <td>1</td>\n",
       "    </tr>\n",
       "    <tr>\n",
       "      <th>2</th>\n",
       "      <td>2889</td>\n",
       "      <td>5035 7685 3139 4407 254 584 6589 8518 3078</td>\n",
       "      <td>0</td>\n",
       "    </tr>\n",
       "    <tr>\n",
       "      <th>3</th>\n",
       "      <td>3457</td>\n",
       "      <td>1047 2540 2578 6700 2242 230 3771 4676 5881 64...</td>\n",
       "      <td>0</td>\n",
       "    </tr>\n",
       "    <tr>\n",
       "      <th>4</th>\n",
       "      <td>1555</td>\n",
       "      <td>7685 5868 237 6794 3078</td>\n",
       "      <td>0</td>\n",
       "    </tr>\n",
       "  </tbody>\n",
       "</table>\n",
       "</div>"
      ],
      "text/plain": [
       "     id                                               text  category\n",
       "0  3973                       1047 6700 4178 2912 183 6700         0\n",
       "1  4462  4035 4563 1994 154 5373 4956 6035 4393 4017 40...         1\n",
       "2  2889         5035 7685 3139 4407 254 584 6589 8518 3078         0\n",
       "3  3457  1047 2540 2578 6700 2242 230 3771 4676 5881 64...         0\n",
       "4  1555                            7685 5868 237 6794 3078         0"
      ]
     },
     "execution_count": 24,
     "metadata": {},
     "output_type": "execute_result"
    }
   ],
   "source": [
    "df = pd.read_csv('TRAIN.csv')\n",
    "df.head()"
   ]
  },
  {
   "cell_type": "markdown",
   "metadata": {},
   "source": [
    "Check the count of training data and observe data types of each features"
   ]
  },
  {
   "cell_type": "code",
   "execution_count": 25,
   "metadata": {},
   "outputs": [
    {
     "data": {
      "text/plain": [
       "(2598, 3)"
      ]
     },
     "execution_count": 25,
     "metadata": {},
     "output_type": "execute_result"
    }
   ],
   "source": [
    "df.shape"
   ]
  },
  {
   "cell_type": "code",
   "execution_count": 26,
   "metadata": {},
   "outputs": [
    {
     "name": "stdout",
     "output_type": "stream",
     "text": [
      "<class 'pandas.core.frame.DataFrame'>\n",
      "RangeIndex: 2598 entries, 0 to 2597\n",
      "Data columns (total 3 columns):\n",
      " #   Column    Non-Null Count  Dtype \n",
      "---  ------    --------------  ----- \n",
      " 0   id        2598 non-null   int64 \n",
      " 1   text      2598 non-null   object\n",
      " 2   category  2598 non-null   int64 \n",
      "dtypes: int64(2), object(1)\n",
      "memory usage: 50.8+ KB\n"
     ]
    }
   ],
   "source": [
    "df.info()"
   ]
  },
  {
   "cell_type": "markdown",
   "metadata": {},
   "source": [
    "## 3. EDA"
   ]
  },
  {
   "cell_type": "markdown",
   "metadata": {},
   "source": [
    "### 3.1 Observe class distribution"
   ]
  },
  {
   "cell_type": "code",
   "execution_count": 27,
   "metadata": {},
   "outputs": [
    {
     "data": {
      "image/png": "[encoded data removed]",
      "text/plain": [
       "<Figure size 720x504 with 1 Axes>"
      ]
     },
     "metadata": {
      "needs_background": "light"
     },
     "output_type": "display_data"
    }
   ],
   "source": [
    "plt.figure(figsize=(10, 7))\n",
    "plt.title('Class distribution of category')\n",
    "sns.countplot(df['category'])\n",
    "plt.show()"
   ]
  },
  {
   "cell_type": "code",
   "execution_count": 28,
   "metadata": {},
   "outputs": [
    {
     "data": {
      "text/plain": [
       "0                         1047 6700 4178 2912 183 6700\n",
       "1    4035 4563 1994 154 5373 4956 6035 4393 4017 40...\n",
       "2           5035 7685 3139 4407 254 584 6589 8518 3078\n",
       "3    1047 2540 2578 6700 2242 230 3771 4676 5881 64...\n",
       "4                              7685 5868 237 6794 3078\n",
       "Name: text, dtype: object"
      ]
     },
     "execution_count": 28,
     "metadata": {},
     "output_type": "execute_result"
    }
   ],
   "source": [
    "df['text'].head()"
   ]
  },
  {
   "cell_type": "markdown",
   "metadata": {},
   "source": [
    "### 3.2 Shuffle the data"
   ]
  },
  {
   "cell_type": "code",
   "execution_count": 7,
   "metadata": {},
   "outputs": [
    {
     "data": {
      "text/html": [
       "<div>\n",
       "<style scoped>\n",
       "    .dataframe tbody tr th:only-of-type {\n",
       "        vertical-align: middle;\n",
       "    }\n",
       "\n",
       "    .dataframe tbody tr th {\n",
       "        vertical-align: top;\n",
       "    }\n",
       "\n",
       "    .dataframe thead th {\n",
       "        text-align: right;\n",
       "    }\n",
       "</style>\n",
       "<table border=\"1\" class=\"dataframe\">\n",
       "  <thead>\n",
       "    <tr style=\"text-align: right;\">\n",
       "      <th></th>\n",
       "      <th>id</th>\n",
       "      <th>text</th>\n",
       "      <th>category</th>\n",
       "    </tr>\n",
       "  </thead>\n",
       "  <tbody>\n",
       "    <tr>\n",
       "      <th>0</th>\n",
       "      <td>4408</td>\n",
       "      <td>590 724 5107 5121 4162 5773 187 5773 7087 8542...</td>\n",
       "      <td>0</td>\n",
       "    </tr>\n",
       "    <tr>\n",
       "      <th>1</th>\n",
       "      <td>2785</td>\n",
       "      <td>3919 5407 6084 6843 5071 2664 4032 634 3919 40...</td>\n",
       "      <td>0</td>\n",
       "    </tr>\n",
       "    <tr>\n",
       "      <th>2</th>\n",
       "      <td>3468</td>\n",
       "      <td>2610 230 8406 4450 7588 6700 4608 4799 5672 15...</td>\n",
       "      <td>0</td>\n",
       "    </tr>\n",
       "    <tr>\n",
       "      <th>3</th>\n",
       "      <td>3608</td>\n",
       "      <td>6084 6980 5551 8223 237 3225 4117 5773 5728 50...</td>\n",
       "      <td>0</td>\n",
       "    </tr>\n",
       "    <tr>\n",
       "      <th>4</th>\n",
       "      <td>1725</td>\n",
       "      <td>2734 2230 3160 8298 5335 230 226 5773 2977 586...</td>\n",
       "      <td>0</td>\n",
       "    </tr>\n",
       "  </tbody>\n",
       "</table>\n",
       "</div>"
      ],
      "text/plain": [
       "     id                                               text  category\n",
       "0  4408  590 724 5107 5121 4162 5773 187 5773 7087 8542...         0\n",
       "1  2785  3919 5407 6084 6843 5071 2664 4032 634 3919 40...         0\n",
       "2  3468  2610 230 8406 4450 7588 6700 4608 4799 5672 15...         0\n",
       "3  3608  6084 6980 5551 8223 237 3225 4117 5773 5728 50...         0\n",
       "4  1725  2734 2230 3160 8298 5335 230 226 5773 2977 586...         0"
      ]
     },
     "execution_count": 7,
     "metadata": {},
     "output_type": "execute_result"
    }
   ],
   "source": [
    "# Shuffeling data\n",
    "df = df.sample(frac=1).reset_index(drop=True)\n",
    "df.head()"
   ]
  },
  {
   "cell_type": "markdown",
   "metadata": {},
   "source": [
    "### 3.3 Split the data"
   ]
  },
  {
   "cell_type": "code",
   "execution_count": 197,
   "metadata": {
    "scrolled": true
   },
   "outputs": [
    {
     "name": "stdout",
     "output_type": "stream",
     "text": [
      "(2338, 3) (260, 3)\n"
     ]
    }
   ],
   "source": [
    "train, test = train_test_split(df, test_size=0.10, stratify=df['category'], random_state=42)\n",
    "print(train.shape, test.shape)"
   ]
  },
  {
   "cell_type": "markdown",
   "metadata": {},
   "source": [
    "Try differenct vectorize methods to see the performance impact of each machine learning models"
   ]
  },
  {
   "cell_type": "markdown",
   "metadata": {},
   "source": [
    "### 3.4 Trying Count Vectorizer:"
   ]
  },
  {
   "cell_type": "code",
   "execution_count": 165,
   "metadata": {},
   "outputs": [
    {
     "name": "stdout",
     "output_type": "stream",
     "text": [
      "(2572, 621) (26, 621)\n"
     ]
    }
   ],
   "source": [
    "cv = CountVectorizer(binary=True, min_df = 10, max_df = 0.95)\n",
    "cv.fit_transform(train['text'].values)\n",
    "X_train = cv.transform(train['text'].values)\n",
    "X_test = cv.transform(test['text'].values)\n",
    "\n",
    "print(X_train.shape, X_test.shape)"
   ]
  },
  {
   "cell_type": "markdown",
   "metadata": {},
   "source": [
    "### 3.5 Trying TFIDF Vectorizer:"
   ]
  },
  {
   "cell_type": "code",
   "execution_count": 187,
   "metadata": {},
   "outputs": [
    {
     "name": "stdout",
     "output_type": "stream",
     "text": [
      "(2234, 558) (364, 558)\n"
     ]
    }
   ],
   "source": [
    "tfidf_v = TfidfVectorizer(use_idf=True, min_df=10, max_df=0.95)\n",
    "tfidf_v.fit_transform(train['text'].values)\n",
    "X_train = tfidf_v.transform(train['text'].values)\n",
    "X_test = tfidf_v.transform(test['text'].values)\n",
    "\n",
    "print(X_train.shape, X_test.shape)"
   ]
  },
  {
   "cell_type": "markdown",
   "metadata": {},
   "source": [
    "### 3.6 Trying Hash Vectorizer:"
   ]
  },
  {
   "cell_type": "code",
   "execution_count": 11,
   "metadata": {},
   "outputs": [
    {
     "name": "stdout",
     "output_type": "stream",
     "text": [
      "(2078, 1048576) (520, 1048576)\n"
     ]
    }
   ],
   "source": [
    "hashv = HashingVectorizer(decode_error='ignore', alternate_sign=False)\n",
    "hashv.fit_transform(train['text'].values)\n",
    "X_train = hashv.transform(train['text'].values)\n",
    "X_test = hashv.transform(test['text'].values)\n",
    "\n",
    "print(X_train.shape, X_test.shape)"
   ]
  },
  {
   "cell_type": "markdown",
   "metadata": {},
   "source": [
    "Separating target variables from train and test data"
   ]
  },
  {
   "cell_type": "code",
   "execution_count": 188,
   "metadata": {},
   "outputs": [
    {
     "name": "stdout",
     "output_type": "stream",
     "text": [
      "(2234,) (364,)\n"
     ]
    }
   ],
   "source": [
    "y_train = train['category'].values\n",
    "y_test = test['category'].values\n",
    "\n",
    "print(y_train.shape, y_test.shape)"
   ]
  },
  {
   "cell_type": "markdown",
   "metadata": {},
   "source": [
    "## 4. Handle class imbalance"
   ]
  },
  {
   "cell_type": "code",
   "execution_count": 189,
   "metadata": {},
   "outputs": [],
   "source": [
    "# from imblearn.over_sampling import RandomOverSampler\n",
    "# from imblearn.under_sampling import RandomUnderSampler\n",
    "\n",
    "# oversample = RandomOverSampler(sampling_strategy='minority')\n",
    "# X_over, y_over = oversample.fit_resample(X_train, y_train)\n",
    "\n",
    "# X_train, y_train = X_over, y_over"
   ]
  },
  {
   "cell_type": "code",
   "execution_count": 190,
   "metadata": {},
   "outputs": [
    {
     "name": "stdout",
     "output_type": "stream",
     "text": [
      "Shape of train dataset before applying SMOTE: (2234, 558)\n",
      "Shape of train dataset after applying SMOTE: (4320, 558)\n"
     ]
    }
   ],
   "source": [
    "# Applying SMOTE\n",
    "from imblearn.over_sampling import SMOTE\n",
    "\n",
    "print('Shape of train dataset before applying SMOTE:', X_train.shape)\n",
    "\n",
    "X_train, y_train = SMOTE().fit_resample(X_train, y_train)\n",
    "\n",
    "print('Shape of train dataset after applying SMOTE:', X_train.shape)"
   ]
  },
  {
   "cell_type": "markdown",
   "metadata": {},
   "source": [
    "## 5. Build and evaluate the baseline model"
   ]
  },
  {
   "cell_type": "markdown",
   "metadata": {},
   "source": [
    "### 5.1. Logistic Regression"
   ]
  },
  {
   "cell_type": "code",
   "execution_count": 191,
   "metadata": {},
   "outputs": [
    {
     "name": "stdout",
     "output_type": "stream",
     "text": [
      "Training precision score:  0.9981549815498155\n",
      "Validation precision score:  0.9985835694050991\n"
     ]
    }
   ],
   "source": [
    "# Initialize the logistic regression model\n",
    "lr = LogisticRegression() #LogisticRegression(solver = 'liblinear', random_state = 42, max_iter=1000)\n",
    "\n",
    "# Fit the data\n",
    "lr.fit(X_train, y_train)\n",
    "\n",
    "# Find out the predictions\n",
    "y_pred = lr.predict(X_test)\n",
    "\n",
    "# Evaluate the precision score\n",
    "print('Training precision score: ', precision_score(y_train, lr.predict(X_train), average='macro'))\n",
    "print('Validation precision score: ', precision_score(y_test, y_pred, average='macro'))"
   ]
  },
  {
   "cell_type": "markdown",
   "metadata": {},
   "source": [
    "### 5.2. Random Forest Classifier"
   ]
  },
  {
   "cell_type": "code",
   "execution_count": 177,
   "metadata": {},
   "outputs": [
    {
     "name": "stdout",
     "output_type": "stream",
     "text": [
      "Training precision score:  1.0\n",
      "Validation precision score:  0.9950819672131148\n"
     ]
    }
   ],
   "source": [
    "# Initialize the the model\n",
    "rf = RandomForestClassifier(max_features=10, n_estimators=24, random_state=42)\n",
    "\n",
    "# Fit the data\n",
    "rf.fit(X_train, y_train)\n",
    "\n",
    "# Find out the predictions\n",
    "y_pred = rf.predict(X_test)\n",
    "\n",
    "# Evaluate the precision score\n",
    "print('Training precision score: ', precision_score(y_train, rf.predict(X_train), average='macro'))\n",
    "print('Validation precision score: ', precision_score(y_test, y_pred, average='macro'))"
   ]
  },
  {
   "cell_type": "markdown",
   "metadata": {},
   "source": [
    "### 5.3. XGBoost Classifier"
   ]
  },
  {
   "cell_type": "code",
   "execution_count": 178,
   "metadata": {},
   "outputs": [
    {
     "name": "stdout",
     "output_type": "stream",
     "text": [
      "Training precision score:  0.9997738579828133\n",
      "Validation precision score:  0.9950819672131148\n"
     ]
    }
   ],
   "source": [
    "# Initialize the the model\n",
    "xgb = XGBClassifier(objective='binary:logistic')\n",
    "\n",
    "# Fit the data\n",
    "xgb.fit(X_train, y_train)\n",
    "\n",
    "# Find out the predictions\n",
    "y_pred = xgb.predict(X_test)\n",
    "\n",
    "# Evaluate the precision score\n",
    "print('Training precision score: ', precision_score(y_train, xgb.predict(X_train), average='macro'))\n",
    "print('Validation precision score: ', precision_score(y_test, y_pred, average='macro'))"
   ]
  },
  {
   "cell_type": "markdown",
   "metadata": {},
   "source": [
    "### 5.4. SGD Classifier"
   ]
  },
  {
   "cell_type": "code",
   "execution_count": 179,
   "metadata": {},
   "outputs": [
    {
     "name": "stdout",
     "output_type": "stream",
     "text": [
      "Training precision score:  0.9995479204339963\n",
      "Validation precision score:  0.9983498349834983\n"
     ]
    }
   ],
   "source": [
    "# Initialize the the model\n",
    "sgd = SGDClassifier()\n",
    "\n",
    "# Fit the data\n",
    "sgd.fit(X_train, y_train)\n",
    "\n",
    "# Find out the predictions\n",
    "y_pred = sgd.predict(X_test)\n",
    "\n",
    "# Evaluate the precision score\n",
    "print('Training precision score: ', precision_score(y_train, sgd.predict(X_train), average='macro'))\n",
    "print('Validation precision score: ', precision_score(y_test, y_pred, average='macro'))"
   ]
  },
  {
   "cell_type": "markdown",
   "metadata": {},
   "source": [
    "### 5.5. Linear SVC"
   ]
  },
  {
   "cell_type": "code",
   "execution_count": 180,
   "metadata": {},
   "outputs": [
    {
     "name": "stdout",
     "output_type": "stream",
     "text": [
      "Training precision score:  0.9995479204339963\n",
      "Validation precision score:  0.9983498349834983\n"
     ]
    }
   ],
   "source": [
    "from sklearn.svm import LinearSVC\n",
    "\n",
    "# Initialize the the model\n",
    "svc = LinearSVC(random_state=42, tol=1e-5)\n",
    "\n",
    "# Fit the data\n",
    "svc.fit(X_train, y_train)\n",
    "\n",
    "# Find out the predictions\n",
    "y_pred = svc.predict(X_test)\n",
    "\n",
    "# Evaluate the precision score\n",
    "print('Training precision score: ', precision_score(y_train, svc.predict(X_train), average='macro'))\n",
    "print('Validation precision score: ', precision_score(y_test, y_pred, average='macro'))"
   ]
  },
  {
   "cell_type": "markdown",
   "metadata": {},
   "source": [
    "### Best performing model\n",
    "\n",
    " - Here, we can see that Logistic Regression outperforms all other models with train and test **precision** score of 0.99."
   ]
  },
  {
   "cell_type": "markdown",
   "metadata": {},
   "source": [
    "## 6. Test and create submission file"
   ]
  },
  {
   "cell_type": "code",
   "execution_count": 192,
   "metadata": {},
   "outputs": [
    {
     "data": {
      "text/html": [
       "<div>\n",
       "<style scoped>\n",
       "    .dataframe tbody tr th:only-of-type {\n",
       "        vertical-align: middle;\n",
       "    }\n",
       "\n",
       "    .dataframe tbody tr th {\n",
       "        vertical-align: top;\n",
       "    }\n",
       "\n",
       "    .dataframe thead th {\n",
       "        text-align: right;\n",
       "    }\n",
       "</style>\n",
       "<table border=\"1\" class=\"dataframe\">\n",
       "  <thead>\n",
       "    <tr style=\"text-align: right;\">\n",
       "      <th></th>\n",
       "      <th>id</th>\n",
       "      <th>text</th>\n",
       "    </tr>\n",
       "  </thead>\n",
       "  <tbody>\n",
       "    <tr>\n",
       "      <th>0</th>\n",
       "      <td>1546</td>\n",
       "      <td>5222 7526 427 4829 7526 1164 4768 997 7924 332...</td>\n",
       "    </tr>\n",
       "    <tr>\n",
       "      <th>1</th>\n",
       "      <td>2956</td>\n",
       "      <td>590 983 5773 8352 1803 237 5045 6300 6267 5773...</td>\n",
       "    </tr>\n",
       "    <tr>\n",
       "      <th>2</th>\n",
       "      <td>4248</td>\n",
       "      <td>5915 4871 2982 6310 2734 3581 5773 6498 5773</td>\n",
       "    </tr>\n",
       "    <tr>\n",
       "      <th>3</th>\n",
       "      <td>4403</td>\n",
       "      <td>5435 1994 7248 1944 4017 3567 8618 5018 6619 3...</td>\n",
       "    </tr>\n",
       "    <tr>\n",
       "      <th>4</th>\n",
       "      <td>2097</td>\n",
       "      <td>6666 230 4768 2684 5773 3656 907 5922 2295 577...</td>\n",
       "    </tr>\n",
       "  </tbody>\n",
       "</table>\n",
       "</div>"
      ],
      "text/plain": [
       "     id                                               text\n",
       "0  1546  5222 7526 427 4829 7526 1164 4768 997 7924 332...\n",
       "1  2956  590 983 5773 8352 1803 237 5045 6300 6267 5773...\n",
       "2  4248       5915 4871 2982 6310 2734 3581 5773 6498 5773\n",
       "3  4403  5435 1994 7248 1944 4017 3567 8618 5018 6619 3...\n",
       "4  2097  6666 230 4768 2684 5773 3656 907 5922 2295 577..."
      ]
     },
     "execution_count": 192,
     "metadata": {},
     "output_type": "execute_result"
    }
   ],
   "source": [
    "df_test = pd.read_csv('TEST.csv')\n",
    "df_test.head()"
   ]
  },
  {
   "cell_type": "code",
   "execution_count": 193,
   "metadata": {},
   "outputs": [
    {
     "data": {
      "text/plain": [
       "(866, 2)"
      ]
     },
     "execution_count": 193,
     "metadata": {},
     "output_type": "execute_result"
    }
   ],
   "source": [
    "df_test.shape"
   ]
  },
  {
   "cell_type": "code",
   "execution_count": 194,
   "metadata": {},
   "outputs": [],
   "source": [
    "#y_pred = xgb.predict(cv.transform(df_test['text'].values))\n",
    "y_pred = lr.predict(tfidf_v.transform(df_test['text'].values))\n",
    "#y_pred = lr.predict(hashv.transform(df_test['text'].values))"
   ]
  },
  {
   "cell_type": "code",
   "execution_count": 195,
   "metadata": {
    "scrolled": false
   },
   "outputs": [
    {
     "data": {
      "image/png": "[encoded data removed]",
      "text/plain": [
       "<Figure size 432x288 with 1 Axes>"
      ]
     },
     "metadata": {
      "needs_background": "light"
     },
     "output_type": "display_data"
    },
    {
     "name": "stdout",
     "output_type": "stream",
     "text": [
      "category\n",
      "0           832\n",
      "1            34\n",
      "dtype: int64\n"
     ]
    }
   ],
   "source": [
    "Predicted_Y = pd.DataFrame(y_pred)\n",
    "Predicted_Y.columns = ['category']\n",
    "\n",
    "Predicted_Y.value_counts().plot.bar()\n",
    "plt.show()\n",
    "print(Predicted_Y.value_counts())"
   ]
  },
  {
   "cell_type": "code",
   "execution_count": 196,
   "metadata": {},
   "outputs": [],
   "source": [
    "# Write Final preds\n",
    "Predicted_Y.to_csv(\"./submission.csv\", index=False)"
   ]
  },
  {
   "cell_type": "code",
   "execution_count": null,
   "metadata": {},
   "outputs": [],
   "source": []
  }
 ],
 "metadata": {
  "kernelspec": {
   "display_name": "Python 3",
   "language": "python",
   "name": "python3"
  },
  "language_info": {
   "codemirror_mode": {
    "name": "ipython",
    "version": 3
   },
   "file_extension": ".py",
   "mimetype": "text/x-python",
   "name": "python",
   "nbconvert_exporter": "python",
   "pygments_lexer": "ipython3",
   "version": "3.6.10"
  }
 },
 "nbformat": 4,
 "nbformat_minor": 4
}
