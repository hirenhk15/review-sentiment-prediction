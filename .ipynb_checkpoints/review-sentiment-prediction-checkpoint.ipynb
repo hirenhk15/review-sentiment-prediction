{
 "cells": [
  {
   "cell_type": "markdown",
   "metadata": {},
   "source": [
    "# Review Sentiment Prediction\n",
    "\n",
    "This is a binary classification problem where you need to predict whether the review sentiment is positive or negative\n",
    "\n",
    "### Data Dictionary\n",
    "\n",
    " - **id**: Unique identifier for each tuple\n",
    " - **category**: The reviews have been categorized into two categories representing positive and negative reviews. 0 represents positive reviews and 1 represents negative reviews.\n",
    " - **text**: Tokenized text content of the review\n",
    " \n",
    "### Evaluation Metric\n",
    "\n",
    " - Submissions are evaluated using [Precision_Score(Macro)](https://scikit-learn.org/stable/modules/generated/sklearn.metrics.precision_score.html#:~:text=The%20precision%20is%20the%20ratio,the%20worst%20value%20is%200.)\n",
    " \n",
    " - e.g. ```precision_score(y_true, y_pred, average='macro')```"
   ]
  },
  {
   "cell_type": "markdown",
   "metadata": {},
   "source": [
    "## 1. Import the packages"
   ]
  },
  {
   "cell_type": "code",
   "execution_count": 136,
   "metadata": {},
   "outputs": [],
   "source": [
    "import numpy as np\n",
    "import pandas as pd\n",
    "import seaborn as sns\n",
    "import category_encoders as ce\n",
    "import matplotlib.pyplot as plt\n",
    "from sklearn.model_selection import train_test_split\n",
    "from sklearn.model_selection import GridSearchCV\n",
    "from sklearn.preprocessing import StandardScaler\n",
    "\n",
    "from sklearn.linear_model import LogisticRegression\n",
    "from sklearn.ensemble import RandomForestClassifier\n",
    "from sklearn.tree import DecisionTreeClassifier\n",
    "from xgboost.sklearn import XGBClassifier \n",
    "\n",
    "from sklearn.metrics import f1_score, precision_score\n",
    "from sklearn.metrics import roc_auc_score \n",
    "from sklearn.metrics import confusion_matrix\n",
    "from sklearn.metrics import classification_report\n",
    "from sklearn.utils import resample, shuffle\n",
    "\n",
    "from sklearn.feature_extraction.text import CountVectorizer, TfidfVectorizer, HashingVectorizer\n",
    "from sklearn.linear_model import LogisticRegression\n",
    "from sklearn import metrics\n",
    "\n",
    "import warnings\n",
    "warnings.filterwarnings(\"ignore\")"
   ]
  },
  {
   "cell_type": "markdown",
   "metadata": {},
   "source": [
    "## 2. Read the data"
   ]
  },
  {
   "cell_type": "code",
   "execution_count": 2,
   "metadata": {},
   "outputs": [
    {
     "data": {
      "text/html": [
       "<div>\n",
       "<style scoped>\n",
       "    .dataframe tbody tr th:only-of-type {\n",
       "        vertical-align: middle;\n",
       "    }\n",
       "\n",
       "    .dataframe tbody tr th {\n",
       "        vertical-align: top;\n",
       "    }\n",
       "\n",
       "    .dataframe thead th {\n",
       "        text-align: right;\n",
       "    }\n",
       "</style>\n",
       "<table border=\"1\" class=\"dataframe\">\n",
       "  <thead>\n",
       "    <tr style=\"text-align: right;\">\n",
       "      <th></th>\n",
       "      <th>id</th>\n",
       "      <th>text</th>\n",
       "      <th>category</th>\n",
       "    </tr>\n",
       "  </thead>\n",
       "  <tbody>\n",
       "    <tr>\n",
       "      <th>0</th>\n",
       "      <td>3973</td>\n",
       "      <td>1047 6700 4178 2912 183 6700</td>\n",
       "      <td>0</td>\n",
       "    </tr>\n",
       "    <tr>\n",
       "      <th>1</th>\n",
       "      <td>4462</td>\n",
       "      <td>4035 4563 1994 154 5373 4956 6035 4393 4017 40...</td>\n",
       "      <td>1</td>\n",
       "    </tr>\n",
       "    <tr>\n",
       "      <th>2</th>\n",
       "      <td>2889</td>\n",
       "      <td>5035 7685 3139 4407 254 584 6589 8518 3078</td>\n",
       "      <td>0</td>\n",
       "    </tr>\n",
       "    <tr>\n",
       "      <th>3</th>\n",
       "      <td>3457</td>\n",
       "      <td>1047 2540 2578 6700 2242 230 3771 4676 5881 64...</td>\n",
       "      <td>0</td>\n",
       "    </tr>\n",
       "    <tr>\n",
       "      <th>4</th>\n",
       "      <td>1555</td>\n",
       "      <td>7685 5868 237 6794 3078</td>\n",
       "      <td>0</td>\n",
       "    </tr>\n",
       "  </tbody>\n",
       "</table>\n",
       "</div>"
      ],
      "text/plain": [
       "     id                                               text  category\n",
       "0  3973                       1047 6700 4178 2912 183 6700         0\n",
       "1  4462  4035 4563 1994 154 5373 4956 6035 4393 4017 40...         1\n",
       "2  2889         5035 7685 3139 4407 254 584 6589 8518 3078         0\n",
       "3  3457  1047 2540 2578 6700 2242 230 3771 4676 5881 64...         0\n",
       "4  1555                            7685 5868 237 6794 3078         0"
      ]
     },
     "execution_count": 2,
     "metadata": {},
     "output_type": "execute_result"
    }
   ],
   "source": [
    "df = pd.read_csv('TRAIN.csv')\n",
    "df.head()"
   ]
  },
  {
   "cell_type": "code",
   "execution_count": 3,
   "metadata": {},
   "outputs": [
    {
     "data": {
      "text/plain": [
       "(2598, 3)"
      ]
     },
     "execution_count": 3,
     "metadata": {},
     "output_type": "execute_result"
    }
   ],
   "source": [
    "df.shape"
   ]
  },
  {
   "cell_type": "code",
   "execution_count": 4,
   "metadata": {},
   "outputs": [
    {
     "name": "stdout",
     "output_type": "stream",
     "text": [
      "<class 'pandas.core.frame.DataFrame'>\n",
      "RangeIndex: 2598 entries, 0 to 2597\n",
      "Data columns (total 3 columns):\n",
      " #   Column    Non-Null Count  Dtype \n",
      "---  ------    --------------  ----- \n",
      " 0   id        2598 non-null   int64 \n",
      " 1   text      2598 non-null   object\n",
      " 2   category  2598 non-null   int64 \n",
      "dtypes: int64(2), object(1)\n",
      "memory usage: 50.8+ KB\n"
     ]
    }
   ],
   "source": [
    "df.info()"
   ]
  },
  {
   "cell_type": "code",
   "execution_count": 5,
   "metadata": {},
   "outputs": [
    {
     "data": {
      "text/plain": [
       "0    2512\n",
       "1      86\n",
       "Name: category, dtype: int64"
      ]
     },
     "execution_count": 5,
     "metadata": {},
     "output_type": "execute_result"
    }
   ],
   "source": [
    "df['category'].value_counts()"
   ]
  },
  {
   "cell_type": "code",
   "execution_count": 38,
   "metadata": {},
   "outputs": [
    {
     "data": {
      "text/plain": [
       "0                         1047 6700 4178 2912 183 6700\n",
       "1    4035 4563 1994 154 5373 4956 6035 4393 4017 40...\n",
       "2           5035 7685 3139 4407 254 584 6589 8518 3078\n",
       "3    1047 2540 2578 6700 2242 230 3771 4676 5881 64...\n",
       "4                              7685 5868 237 6794 3078\n",
       "Name: text, dtype: object"
      ]
     },
     "execution_count": 38,
     "metadata": {},
     "output_type": "execute_result"
    }
   ],
   "source": [
    "df['text'].head()"
   ]
  },
  {
   "cell_type": "code",
   "execution_count": 54,
   "metadata": {},
   "outputs": [
    {
     "name": "stdout",
     "output_type": "stream",
     "text": [
      "(2078, 3) (520, 3)\n"
     ]
    }
   ],
   "source": [
    "train, test = train_test_split(df, test_size=0.2, stratify=df['category'], random_state=42)\n",
    "print(train.shape, test.shape)"
   ]
  },
  {
   "cell_type": "markdown",
   "metadata": {},
   "source": [
    "### Trying Count Vectorizer:"
   ]
  },
  {
   "cell_type": "code",
   "execution_count": 76,
   "metadata": {},
   "outputs": [
    {
     "name": "stdout",
     "output_type": "stream",
     "text": [
      "(2078, 529) (520, 529)\n"
     ]
    }
   ],
   "source": [
    "cv = CountVectorizer(binary=True, min_df = 10, max_df = 0.95)\n",
    "cv.fit_transform(train['text'].values)\n",
    "X_train = cv.transform(train['text'].values)\n",
    "X_test = cv.transform(test['text'].values)\n",
    "\n",
    "print(X_train.shape, X_test.shape)"
   ]
  },
  {
   "cell_type": "markdown",
   "metadata": {},
   "source": [
    "### Trying TFIDF Vectorizer:"
   ]
  },
  {
   "cell_type": "code",
   "execution_count": 135,
   "metadata": {},
   "outputs": [
    {
     "name": "stdout",
     "output_type": "stream",
     "text": [
      "(2078, 529) (520, 529)\n"
     ]
    }
   ],
   "source": [
    "tfidf_v = TfidfVectorizer(use_idf=True, min_df=10, max_df=0.95)\n",
    "tfidf_v.fit_transform(train['text'].values)\n",
    "X_train = tfidf_v.transform(train['text'].values)\n",
    "X_test = tfidf_v.transform(test['text'].values)\n",
    "\n",
    "print(X_train.shape, X_test.shape)"
   ]
  },
  {
   "cell_type": "markdown",
   "metadata": {},
   "source": [
    "### Trying Hash Vectorizer:"
   ]
  },
  {
   "cell_type": "code",
   "execution_count": 137,
   "metadata": {},
   "outputs": [
    {
     "name": "stdout",
     "output_type": "stream",
     "text": [
      "(2078, 1048576) (520, 1048576)\n"
     ]
    }
   ],
   "source": [
    "hashv = HashingVectorizer(decode_error='ignore', alternate_sign=False)\n",
    "hashv.fit_transform(train['text'].values)\n",
    "X_train = hashv.transform(train['text'].values)\n",
    "X_test = hashv.transform(test['text'].values)\n",
    "\n",
    "print(X_train.shape, X_test.shape)"
   ]
  },
  {
   "cell_type": "code",
   "execution_count": 138,
   "metadata": {},
   "outputs": [
    {
     "name": "stdout",
     "output_type": "stream",
     "text": [
      "(2078,) (520,)\n"
     ]
    }
   ],
   "source": [
    "y_train = train['category'].values\n",
    "y_test = test['category'].values\n",
    "\n",
    "print(y_train.shape, y_test.shape)"
   ]
  },
  {
   "cell_type": "markdown",
   "metadata": {},
   "source": [
    "## Handle class imbalance"
   ]
  },
  {
   "cell_type": "code",
   "execution_count": 95,
   "metadata": {},
   "outputs": [],
   "source": [
    "from imblearn.over_sampling import RandomOverSampler\n",
    "from imblearn.under_sampling import RandomUnderSampler\n",
    "\n",
    "oversample = RandomOverSampler(sampling_strategy='minority')\n",
    "X_over, y_over = oversample.fit_resample(X_train, y_train)"
   ]
  },
  {
   "cell_type": "code",
   "execution_count": 96,
   "metadata": {},
   "outputs": [],
   "source": [
    "X_train, y_train = X_over, y_over"
   ]
  },
  {
   "cell_type": "code",
   "execution_count": 139,
   "metadata": {},
   "outputs": [
    {
     "name": "stdout",
     "output_type": "stream",
     "text": [
      "Shape of train dataset before applying SMOTE: (2078, 1048576)\n",
      "Shape of train dataset after applying SMOTE: (4018, 1048576)\n"
     ]
    }
   ],
   "source": [
    "# Applying SMOTE\n",
    "from imblearn.over_sampling import SMOTE\n",
    "\n",
    "print('Shape of train dataset before applying SMOTE:', X_train.shape)\n",
    "\n",
    "X_train, y_train = SMOTE().fit_resample(X_train, y_train)\n",
    "\n",
    "print('Shape of train dataset after applying SMOTE:', X_train.shape)"
   ]
  },
  {
   "cell_type": "markdown",
   "metadata": {},
   "source": [
    "## Build the baseline model"
   ]
  },
  {
   "cell_type": "markdown",
   "metadata": {},
   "source": [
    "#### 1. Logistic Regression"
   ]
  },
  {
   "cell_type": "code",
   "execution_count": 140,
   "metadata": {},
   "outputs": [
    {
     "name": "stdout",
     "output_type": "stream",
     "text": [
      "Training precision score:  0.9990064580228515\n",
      "Validation precision score:  0.998019801980198\n"
     ]
    }
   ],
   "source": [
    "# Initialize the logistic regression model\n",
    "lr = LogisticRegression() #LogisticRegression(solver = 'liblinear', random_state = 42, max_iter=1000)\n",
    "\n",
    "# Fit the data\n",
    "lr.fit(X_train, y_train)\n",
    "\n",
    "# Find out the predictions\n",
    "y_pred = lr.predict(X_test)\n",
    "\n",
    "# Evaluate the precision score\n",
    "print('Training precision score: ', precision_score(y_train, lr.predict(X_train), average='macro'))\n",
    "print('Validation precision score: ', precision_score(y_test, y_pred, average='macro'))"
   ]
  },
  {
   "cell_type": "markdown",
   "metadata": {},
   "source": [
    "#### 2. Random Forest Classifier"
   ]
  },
  {
   "cell_type": "code",
   "execution_count": 129,
   "metadata": {},
   "outputs": [
    {
     "name": "stdout",
     "output_type": "stream",
     "text": [
      "Training precision score:  1.0\n",
      "Validation precision score:  0.9874031007751938\n"
     ]
    }
   ],
   "source": [
    "# Initialize the the model\n",
    "rf = RandomForestClassifier(max_features=10, n_estimators=24, random_state=42)\n",
    "\n",
    "# Fit the data\n",
    "rf.fit(X_train, y_train)\n",
    "\n",
    "# Find out the predictions\n",
    "y_pred = rf.predict(X_test)\n",
    "\n",
    "# Evaluate the precision score\n",
    "print('Training precision score: ', precision_score(y_train, rf.predict(X_train), average='macro'))\n",
    "print('Validation precision score: ', precision_score(y_test, y_pred, average='macro'))"
   ]
  },
  {
   "cell_type": "markdown",
   "metadata": {},
   "source": [
    "#### 3. XGBoost Classifier"
   ]
  },
  {
   "cell_type": "code",
   "execution_count": 130,
   "metadata": {},
   "outputs": [
    {
     "name": "stdout",
     "output_type": "stream",
     "text": [
      "Training precision score:  1.0\n",
      "Validation precision score:  0.9476692266476157\n"
     ]
    }
   ],
   "source": [
    "# Initialize the the model\n",
    "xgb = XGBClassifier(objective='binary:logistic')\n",
    "\n",
    "# Fit the data\n",
    "xgb.fit(X_train, y_train)\n",
    "\n",
    "# Find out the predictions\n",
    "y_pred = xgb.predict(X_test)\n",
    "\n",
    "# Evaluate the precision score\n",
    "print('Training precision score: ', precision_score(y_train, xgb.predict(X_train), average='macro'))\n",
    "print('Validation precision score: ', precision_score(y_test, y_pred, average='macro'))"
   ]
  },
  {
   "cell_type": "markdown",
   "metadata": {},
   "source": [
    "## Test and create submission file"
   ]
  },
  {
   "cell_type": "code",
   "execution_count": 131,
   "metadata": {},
   "outputs": [
    {
     "data": {
      "text/html": [
       "<div>\n",
       "<style scoped>\n",
       "    .dataframe tbody tr th:only-of-type {\n",
       "        vertical-align: middle;\n",
       "    }\n",
       "\n",
       "    .dataframe tbody tr th {\n",
       "        vertical-align: top;\n",
       "    }\n",
       "\n",
       "    .dataframe thead th {\n",
       "        text-align: right;\n",
       "    }\n",
       "</style>\n",
       "<table border=\"1\" class=\"dataframe\">\n",
       "  <thead>\n",
       "    <tr style=\"text-align: right;\">\n",
       "      <th></th>\n",
       "      <th>id</th>\n",
       "      <th>text</th>\n",
       "    </tr>\n",
       "  </thead>\n",
       "  <tbody>\n",
       "    <tr>\n",
       "      <th>0</th>\n",
       "      <td>1546</td>\n",
       "      <td>5222 7526 427 4829 7526 1164 4768 997 7924 332...</td>\n",
       "    </tr>\n",
       "    <tr>\n",
       "      <th>1</th>\n",
       "      <td>2956</td>\n",
       "      <td>590 983 5773 8352 1803 237 5045 6300 6267 5773...</td>\n",
       "    </tr>\n",
       "    <tr>\n",
       "      <th>2</th>\n",
       "      <td>4248</td>\n",
       "      <td>5915 4871 2982 6310 2734 3581 5773 6498 5773</td>\n",
       "    </tr>\n",
       "    <tr>\n",
       "      <th>3</th>\n",
       "      <td>4403</td>\n",
       "      <td>5435 1994 7248 1944 4017 3567 8618 5018 6619 3...</td>\n",
       "    </tr>\n",
       "    <tr>\n",
       "      <th>4</th>\n",
       "      <td>2097</td>\n",
       "      <td>6666 230 4768 2684 5773 3656 907 5922 2295 577...</td>\n",
       "    </tr>\n",
       "  </tbody>\n",
       "</table>\n",
       "</div>"
      ],
      "text/plain": [
       "     id                                               text\n",
       "0  1546  5222 7526 427 4829 7526 1164 4768 997 7924 332...\n",
       "1  2956  590 983 5773 8352 1803 237 5045 6300 6267 5773...\n",
       "2  4248       5915 4871 2982 6310 2734 3581 5773 6498 5773\n",
       "3  4403  5435 1994 7248 1944 4017 3567 8618 5018 6619 3...\n",
       "4  2097  6666 230 4768 2684 5773 3656 907 5922 2295 577..."
      ]
     },
     "execution_count": 131,
     "metadata": {},
     "output_type": "execute_result"
    }
   ],
   "source": [
    "df_test = pd.read_csv('TEST.csv')\n",
    "df_test.head()"
   ]
  },
  {
   "cell_type": "code",
   "execution_count": 132,
   "metadata": {},
   "outputs": [],
   "source": [
    "#y_pred = xgb.predict(cv.transform(df_test['text'].values))\n",
    "y_pred = lr.predict(tfidf_v.transform(df_test['text'].values))"
   ]
  },
  {
   "cell_type": "code",
   "execution_count": 133,
   "metadata": {
    "scrolled": true
   },
   "outputs": [
    {
     "data": {
      "text/plain": [
       "<AxesSubplot:xlabel='category'>"
      ]
     },
     "execution_count": 133,
     "metadata": {},
     "output_type": "execute_result"
    },
    {
     "data": {
      "image/png": "[encoded data removed]",
      "text/plain": [
       "<Figure size 432x288 with 1 Axes>"
      ]
     },
     "metadata": {
      "needs_background": "light"
     },
     "output_type": "display_data"
    }
   ],
   "source": [
    "Predicted_Y = pd.DataFrame(y_pred)\n",
    "Predicted_Y.columns = ['category']\n",
    "\n",
    "Predicted_Y.value_counts().plot.bar()\n",
    "#Predicted_Y.head()"
   ]
  },
  {
   "cell_type": "code",
   "execution_count": 134,
   "metadata": {},
   "outputs": [],
   "source": [
    "# Write Final preds\n",
    "Predicted_Y.to_csv(\"./submission.csv\", index=False)"
   ]
  },
  {
   "cell_type": "code",
   "execution_count": null,
   "metadata": {},
   "outputs": [],
   "source": []
  }
 ],
 "metadata": {
  "kernelspec": {
   "display_name": "Python 3",
   "language": "python",
   "name": "python3"
  },
  "language_info": {
   "codemirror_mode": {
    "name": "ipython",
    "version": 3
   },
   "file_extension": ".py",
   "mimetype": "text/x-python",
   "name": "python",
   "nbconvert_exporter": "python",
   "pygments_lexer": "ipython3",
   "version": "3.6.10"
  }
 },
 "nbformat": 4,
 "nbformat_minor": 4
}
